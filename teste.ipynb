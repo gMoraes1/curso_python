{
 "cells": [
  {
   "cell_type": "code",
   "execution_count": null,
   "metadata": {},
   "outputs": [],
   "source": [
    "flores = [\"margarida\", \"rosa\", \"tulipa\", \"cravo\"]\n",
    "tam = len(flores) - 1\n",
    "while tam >= 0:\n",
    "    print(flores[tam], end=\", \")\n",
    "    tam = tam - 1"
   ]
  },
  {
   "cell_type": "code",
   "execution_count": null,
   "metadata": {},
   "outputs": [],
   "source": [
    "valores = []\n",
    "for i in range(2, 10, 2):\n",
    "    valores.append(i)\n",
    "    \n",
    "print(valores)"
   ]
  },
  {
   "cell_type": "code",
   "execution_count": 7,
   "metadata": {},
   "outputs": [
    {
     "name": "stdout",
     "output_type": "stream",
     "text": [
      "[1, 2, 3, 4, 5, 6, 7, 8, 9, 10]\n"
     ]
    }
   ],
   "source": [
    "def remove_repetido(lista):\n",
    "    lista.sort()\n",
    "\n",
    "    lista_unica = []\n",
    "\n",
    "    for numero in lista:\n",
    "        if numero not in lista_unica:\n",
    "            lista_unica.append(numero)\n",
    "    print(lista_unica)\n",
    "\n",
    "x = [1, 1, 2, 3, 4, 5, 6, 7, 8, 8, 8, 9, 10]\n",
    "\n",
    "remove_repetido(x)\n",
    "\n"
   ]
  }
 ],
 "metadata": {
  "kernelspec": {
   "display_name": "Python 3",
   "language": "python",
   "name": "python3"
  },
  "language_info": {
   "codemirror_mode": {
    "name": "ipython",
    "version": 3
   },
   "file_extension": ".py",
   "mimetype": "text/x-python",
   "name": "python",
   "nbconvert_exporter": "python",
   "pygments_lexer": "ipython3",
   "version": "3.11.9"
  }
 },
 "nbformat": 4,
 "nbformat_minor": 2
}
