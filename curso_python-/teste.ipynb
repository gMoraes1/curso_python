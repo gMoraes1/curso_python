{
 "cells": [
  {
   "cell_type": "code",
   "execution_count": null,
   "metadata": {},
   "outputs": [],
   "source": [
    "\n",
    "class Point():\n",
    "\n",
    "    def __init__(self, x, y):\n",
    "        #criar e retornar os pontos\n",
    "       self.x = x\n",
    "       self.y = y\n",
    "\n",
    "\n",
    "point1 = Point(4,5)\n",
    "point2 = Point(4,5)\n",
    "\n",
    "print(point1)\n",
    "\n",
    "\n"
   ]
  },
  {
   "cell_type": "code",
   "execution_count": null,
   "metadata": {},
   "outputs": [],
   "source": [
    "class NumberSet():\n",
    "     def __init__(self, num1, num2):\n",
    "            self.num1 = num1\n",
    "            self.num2 = num2\n",
    "\n",
    "t = NumberSet(6,10)\n",
    "\n",
    "\n",
    "print(t.num1,t.num2)"
   ]
  },
  {
   "cell_type": "code",
   "execution_count": 6,
   "metadata": {},
   "outputs": [
    {
     "name": "stdout",
     "output_type": "stream",
     "text": [
      "8\n"
     ]
    }
   ],
   "source": [
    "class Animal():\n",
    "    def __init__(self, arms, legs):\n",
    "        self.arms = arms\n",
    "        self.legs = legs\n",
    "\n",
    "    def limbs(self):\n",
    "        return self.arms + self.legs\n",
    "    \n",
    "spider = Animal(4,4)\n",
    "spidlimbs = spider.limbs()\n",
    "\n",
    "print(spidlimbs)\n"
   ]
  },
  {
   "cell_type": "code",
   "execution_count": 55,
   "metadata": {},
   "outputs": [
    {
     "name": "stdout",
     "output_type": "stream",
     "text": [
      "Gustavo\n",
      "Moraes\n",
      "True\n"
     ]
    }
   ],
   "source": [
    "class Person():\n",
    "    def __init__(self, name, age ):\n",
    "        self.name = name\n",
    "        self.age = age\n",
    "\n",
    "    def getGivenName(self):\n",
    "        return self.name.split()[0]\n",
    "\n",
    "    def getFamilyName(self):\n",
    "        return self.name.split()[1]       \n",
    "    \n",
    "    def maior_idade(self):\n",
    "        return self.age < 18\n",
    "             \n",
    "    \n",
    "\n",
    "pessoa = Person(\"Gustavo Moraes\",17)\n",
    "\n",
    "print(pessoa.getGivenName())\n",
    "print(pessoa.getFamilyName())\n",
    "print(pessoa.maior_idade())"
   ]
  },
  {
   "cell_type": "code",
   "execution_count": 1,
   "metadata": {},
   "outputs": [
    {
     "name": "stdout",
     "output_type": "stream",
     "text": [
      "9\n"
     ]
    }
   ],
   "source": [
    "def calcular_enderecos(ip_inicio, ip_fim):\n",
    "    # Converte os IPs para inteiros\n",
    "    start = sum(int(octeto) * (256 ** i) for i, octeto in enumerate(reversed(ip_inicio.split(\".\"))))\n",
    "    end = sum(int(octeto) * (256 ** i) for i, octeto in enumerate(reversed(ip_fim.split(\".\"))))\n",
    "    \n",
    "    # Calcula o número de endereços entre os dois IPs (excluindo o último)\n",
    "    return end - start - 1\n",
    "\n",
    "# Exemplo de uso\n",
    "ip_inicio = \"192.168.1.10\"\n",
    "ip_fim = \"192.168.1.20\"\n",
    "print(calcular_enderecos(ip_inicio, ip_fim))"
   ]
  },
  {
   "cell_type": "code",
   "execution_count": null,
   "metadata": {},
   "outputs": [],
   "source": []
  }
 ],
 "metadata": {
  "kernelspec": {
   "display_name": "Python 3",
   "language": "python",
   "name": "python3"
  },
  "language_info": {
   "codemirror_mode": {
    "name": "ipython",
    "version": 3
   },
   "file_extension": ".py",
   "mimetype": "text/x-python",
   "name": "python",
   "nbconvert_exporter": "python",
   "pygments_lexer": "ipython3",
   "version": "3.11.9"
  }
 },
 "nbformat": 4,
 "nbformat_minor": 2
}
