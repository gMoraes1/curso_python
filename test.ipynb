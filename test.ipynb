{
 "cells": [
  {
   "cell_type": "code",
   "execution_count": null,
   "metadata": {},
   "outputs": [
    {
     "name": "stdout",
     "output_type": "stream",
     "text": [
      "1 2 3 4 5 6 7 8 9 10 2 4 6 8 10 12 14 16 18 20 3 6 9 12 15 18 21 24 27 30 4 8 12 16 20 24 28 32 36 40 5 10 15 20 25 30 35 40 45 50 6 12 18 24 30 36 42 48 54 60 7 14 21 28 35 42 49 56 63 70 8 16 24 32 40 48 56 64 72 80 9 18 27 36 45 54 63 72 81 90 10 20 30 40 50 60 70 80 90 100 "
     ]
    }
   ],
   "source": [
    "#tabuada com while encaixado\n",
    "\n",
    "coluna = 1\n",
    "linha = 1\n",
    "while coluna <= 10:\n",
    "    while linha <= 10:\n",
    "     print (coluna * linha, end= \" \")\n",
    "     linha = linha + 1\n",
    "\n",
    "    coluna = coluna + 1\n",
    "    linha =  1\n",
    "\n"
   ]
  },
  {
   "cell_type": "code",
   "execution_count": 4,
   "metadata": {},
   "outputs": [
    {
     "name": "stdout",
     "output_type": "stream",
     "text": [
      "oi\n",
      "oi\n",
      "oi\n",
      "oi\n",
      "oi\n",
      "oi\n",
      "oi\n",
      "oi\n",
      "oi\n",
      "oi\n",
      "oi\n",
      "oi\n",
      "oi\n",
      "oi\n",
      "oi\n"
     ]
    }
   ],
   "source": [
    "fora = 5\n",
    "while fora > 0:\n",
    "  dentro = 0\n",
    "  while dentro < fora:\n",
    "    print(\"oi\")\n",
    "    dentro = dentro + 1\n",
    "  fora = fora - 1"
   ]
  },
  {
   "cell_type": "code",
   "execution_count": 12,
   "metadata": {},
   "outputs": [
    {
     "name": "stdout",
     "output_type": "stream",
     "text": [
      "10 x 1 = 10\n",
      "\n",
      "11 x 2 = 22\n",
      "\n",
      "12 x 3 = 36\n",
      "\n",
      "13 x 4 = 52\n",
      "\n",
      "14 x 5 = 70\n",
      "\n",
      "15 x 6 = 90\n",
      "\n",
      "16 x 7 = 112\n",
      "\n",
      "17 x 8 = 136\n",
      "\n",
      "18 x 9 = 162\n",
      "\n",
      "19 x 10 = 190\n",
      "\n"
     ]
    }
   ],
   "source": [
    "while tab <= 10:\n",
    "    i = 1\n",
    "    while i <= 10:\n",
    "        print(tab,\"x\",i,\"=\",tab*i)\n",
    "        i = i + 1\n",
    "        print()\n",
    "        tab = tab + 1"
   ]
  },
  {
   "cell_type": "code",
   "execution_count": null,
   "metadata": {},
   "outputs": [],
   "source": [
    "import math\n",
    "def calcu_fatorial (n):\n",
    "    resultado = math.factorial(n)\n",
    "\n",
    "    return resultado\n",
    "    "
   ]
  },
  {
   "cell_type": "code",
   "execution_count": null,
   "metadata": {},
   "outputs": [
    {
     "name": "stdout",
     "output_type": "stream",
     "text": [
      "4\n",
      "5\n",
      "6\n"
     ]
    }
   ],
   "source": [
    "def fatorial(n):\n",
    "    fat = 1\n",
    "    fat = fat * n\n",
    "    n = n - 1\n",
    "    return fat\n",
    "\n",
    "\n",
    "n = int(input(\"digite um numero inteiro\"))\n",
    "\n",
    "while n >= 0:\n",
    "    resultado = fatorial(n)\n",
    "    while n > 1:\n",
    "        n = n - 1\n",
    "    print(fatorial())\n",
    "    n = int(input(\"digite um numero inteiro\"))\n",
    "\n",
    "\n",
    "\n"
   ]
  },
  {
   "cell_type": "code",
   "execution_count": 10,
   "metadata": {},
   "outputs": [
    {
     "name": "stdout",
     "output_type": "stream",
     "text": [
      "fator 2 multiplicidade 1\n"
     ]
    }
   ],
   "source": [
    "n = int( input(\"Digite um numero inteiro\"))\n",
    "\n",
    "fator = 2\n",
    "multiplicidade = 0\n",
    "\n",
    "while n > 1: \n",
    "    while n % fator == 0:\n",
    "        multiplicidade = multiplicidade + 1\n",
    "        n = n/ fator\n",
    "    if multiplicidade > 0:\n",
    "        print(\"fator\", fator, \"multiplicidade\",multiplicidade)\n",
    "    fator = fator + 1\n",
    "    multiplicidade = 0\n"
   ]
  },
  {
   "cell_type": "code",
   "execution_count": 11,
   "metadata": {},
   "outputs": [
    {
     "ename": "IndentationError",
     "evalue": "unexpected indent (1632849573.py, line 3)",
     "output_type": "error",
     "traceback": [
      "\u001b[1;36m  Cell \u001b[1;32mIn[11], line 3\u001b[1;36m\u001b[0m\n\u001b[1;33m    while n >= 0:\u001b[0m\n\u001b[1;37m    ^\u001b[0m\n\u001b[1;31mIndentationError\u001b[0m\u001b[1;31m:\u001b[0m unexpected indent\n"
     ]
    }
   ],
   "source": [
    "n = int( input(\"Digite um numero inteiro\"))\n",
    "multiplicidade = 2 \n",
    " while n >= 0:\n",
    "    while n  % multiplicidade == 0\n",
    "    multiplicidade "
   ]
  },
  {
   "cell_type": "code",
   "execution_count": null,
   "metadata": {},
   "outputs": [
    {
     "name": "stdout",
     "output_type": "stream",
     "text": [
      "# # # \n",
      "# # # \n",
      "# # # \n"
     ]
    }
   ],
   "source": [
    "linha = int( input(\"Digite um numero para fazer as linhas verticais:\"))\n",
    "quant = int( input(\"Digite um numero para fazer as linhas horizontais: \"))\n",
    "\n",
    "limitadorColuna = 0\n",
    "limitadorLinha = 0\n",
    "while limitadorLinha != linha:\n",
    "    while limitadorColuna != quant:\n",
    "        limitadorColuna = limitadorColuna + 1\n",
    "        print(\"#\",end=' ')\n",
    "\n",
    "    limitadorLinha = limitadorLinha + 1\n",
    "    print()    \n",
    "    \n",
    " linha = int(input(\"Digite um número para fazer as linhas verticais: \"))\n",
    "quant = int(input(\"Digite um número para fazer as linhas horizontais: \"))\n",
    "\n",
    "limitadorLinha = 0\n",
    "\n",
    "while limitadorLinha != linha:\n",
    "    limitadorColuna = 0  # Resetar a contagem das colunas a cada nova linha\n",
    "    \n",
    "    while limitadorColuna != quant:\n",
    "        print(\"#\", end=\" \")  # Mantém na mesma linha\n",
    "        limitadorColuna += 1  # Incrementa coluna\n",
    "    \n",
    "    print()  # Quebra de linha para próxima linha\n",
    "    limitadorLinha += 1  # Incrementa linha\n",
    "\n",
    "   \n"
   ]
  },
  {
   "cell_type": "code",
   "execution_count": 15,
   "metadata": {},
   "outputs": [
    {
     "name": "stdout",
     "output_type": "stream",
     "text": [
      "#\n"
     ]
    }
   ],
   "source": [
    "print(\"#\")"
   ]
  }
 ],
 "metadata": {
  "kernelspec": {
   "display_name": "Python 3",
   "language": "python",
   "name": "python3"
  },
  "language_info": {
   "codemirror_mode": {
    "name": "ipython",
    "version": 3
   },
   "file_extension": ".py",
   "mimetype": "text/x-python",
   "name": "python",
   "nbconvert_exporter": "python",
   "pygments_lexer": "ipython3",
   "version": "3.11.9"
  }
 },
 "nbformat": 4,
 "nbformat_minor": 2
}
